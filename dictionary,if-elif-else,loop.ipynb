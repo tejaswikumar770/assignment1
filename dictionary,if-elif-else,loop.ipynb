{
 "cells": [
  {
   "cell_type": "code",
   "execution_count": 1,
   "id": "84d484d1-42d9-4991-b3cb-e5c78b6ac50e",
   "metadata": {},
   "outputs": [],
   "source": [
    "d={}"
   ]
  },
  {
   "cell_type": "code",
   "execution_count": 2,
   "id": "ebfa0ce4-20be-4a61-b12c-29a00a5bfbbe",
   "metadata": {},
   "outputs": [
    {
     "data": {
      "text/plain": [
       "dict"
      ]
     },
     "execution_count": 2,
     "metadata": {},
     "output_type": "execute_result"
    }
   ],
   "source": [
    "type(d)"
   ]
  },
  {
   "cell_type": "code",
   "execution_count": 3,
   "id": "f814dbe5-592e-4b7b-a682-0ad32c21db22",
   "metadata": {},
   "outputs": [],
   "source": [
    "d1={'key':\"tejas\"}"
   ]
  },
  {
   "cell_type": "code",
   "execution_count": 4,
   "id": "213e92a7-918d-40c1-acdb-bacf7eb25ebb",
   "metadata": {},
   "outputs": [
    {
     "data": {
      "text/plain": [
       "{'key': 'tejas'}"
      ]
     },
     "execution_count": 4,
     "metadata": {},
     "output_type": "execute_result"
    }
   ],
   "source": [
    "d1"
   ]
  },
  {
   "cell_type": "code",
   "execution_count": 5,
   "id": "09270b9e-c5f9-4ed6-8f0f-1564518a5933",
   "metadata": {},
   "outputs": [],
   "source": [
    "d2={\"name\":\"tejaswi\",\"email\":\"tk9397@\"}"
   ]
  },
  {
   "cell_type": "code",
   "execution_count": 6,
   "id": "a9e09228-3a5a-4911-ac1b-10d9bd524826",
   "metadata": {},
   "outputs": [
    {
     "data": {
      "text/plain": [
       "{'name': 'tejaswi', 'email': 'tk9397@'}"
      ]
     },
     "execution_count": 6,
     "metadata": {},
     "output_type": "execute_result"
    }
   ],
   "source": [
    "d2"
   ]
  },
  {
   "cell_type": "code",
   "execution_count": 12,
   "id": "d7d07469-3bb4-4d14-9f39-2800987a81eb",
   "metadata": {},
   "outputs": [],
   "source": [
    "d3={234:\"tejas\",\"#wewr\":\"krm\",True:2345}"
   ]
  },
  {
   "cell_type": "code",
   "execution_count": 13,
   "id": "3eb97521-1762-4a1a-acf6-cc2a4074d5af",
   "metadata": {},
   "outputs": [
    {
     "data": {
      "text/plain": [
       "{234: 'tejas', '#wewr': 'krm', True: 2345}"
      ]
     },
     "execution_count": 13,
     "metadata": {},
     "output_type": "execute_result"
    }
   ],
   "source": [
    "d3"
   ]
  },
  {
   "cell_type": "code",
   "execution_count": 14,
   "id": "53d73660-2022-467a-9ae6-76441e81be21",
   "metadata": {},
   "outputs": [
    {
     "data": {
      "text/plain": [
       "'tejas'"
      ]
     },
     "execution_count": 14,
     "metadata": {},
     "output_type": "execute_result"
    }
   ],
   "source": [
    "d3[234]"
   ]
  },
  {
   "cell_type": "code",
   "execution_count": 15,
   "id": "b3705673-8464-46c2-826e-999d45816d18",
   "metadata": {},
   "outputs": [
    {
     "data": {
      "text/plain": [
       "2345"
      ]
     },
     "execution_count": 15,
     "metadata": {},
     "output_type": "execute_result"
    }
   ],
   "source": [
    "d3[True]"
   ]
  },
  {
   "cell_type": "code",
   "execution_count": 16,
   "id": "ffd47b69-5bf7-44ff-8aeb-a16da7189c3e",
   "metadata": {},
   "outputs": [
    {
     "data": {
      "text/plain": [
       "2345"
      ]
     },
     "execution_count": 16,
     "metadata": {},
     "output_type": "execute_result"
    }
   ],
   "source": [
    "d3[1]"
   ]
  },
  {
   "cell_type": "code",
   "execution_count": 19,
   "id": "8c4437ca-5622-42cb-a925-782ee6e2da39",
   "metadata": {},
   "outputs": [],
   "source": [
    "d4={'name':\"tkk\",'mailid':\"tk9397@\",'name':\"kumartej\"}"
   ]
  },
  {
   "cell_type": "code",
   "execution_count": 20,
   "id": "bd20d0cb-3f02-448c-8be6-23508167326f",
   "metadata": {},
   "outputs": [
    {
     "data": {
      "text/plain": [
       "'kumartej'"
      ]
     },
     "execution_count": 20,
     "metadata": {},
     "output_type": "execute_result"
    }
   ],
   "source": [
    "d4['name']"
   ]
  },
  {
   "cell_type": "code",
   "execution_count": 21,
   "id": "1da9a185-6dff-4627-8643-52e1ada5e6f9",
   "metadata": {},
   "outputs": [],
   "source": [
    "d5={\"company\":\"peskill\",\"course\":[\"wd\",'ds']}"
   ]
  },
  {
   "cell_type": "code",
   "execution_count": 22,
   "id": "5de26f0b-4b56-4882-b85f-2984abfb9fd6",
   "metadata": {},
   "outputs": [
    {
     "data": {
      "text/plain": [
       "{'company': 'peskill', 'course': ['wd', 'ds']}"
      ]
     },
     "execution_count": 22,
     "metadata": {},
     "output_type": "execute_result"
    }
   ],
   "source": [
    "d5"
   ]
  },
  {
   "cell_type": "code",
   "execution_count": 23,
   "id": "824deb30-4adf-4284-89c5-63f39684e45c",
   "metadata": {},
   "outputs": [
    {
     "data": {
      "text/plain": [
       "['wd', 'ds']"
      ]
     },
     "execution_count": 23,
     "metadata": {},
     "output_type": "execute_result"
    }
   ],
   "source": [
    "d5['course']"
   ]
  },
  {
   "cell_type": "code",
   "execution_count": 24,
   "id": "fc52536a-af66-4ca9-96a6-8d7232e4968f",
   "metadata": {},
   "outputs": [
    {
     "data": {
      "text/plain": [
       "'ds'"
      ]
     },
     "execution_count": 24,
     "metadata": {},
     "output_type": "execute_result"
    }
   ],
   "source": [
    "d5['course'][1]"
   ]
  },
  {
   "cell_type": "code",
   "execution_count": 27,
   "id": "5cb73f02-4aaf-4209-9d1e-4a85c6de8976",
   "metadata": {},
   "outputs": [],
   "source": [
    "d6={'number':[2,5,55,56,84,78],'assignment':(1,2,3,4,5),\"launch_date\":{28,12,14},'class':8}"
   ]
  },
  {
   "cell_type": "code",
   "execution_count": 28,
   "id": "74e55506-738e-4531-bafc-7d1f92adfcb6",
   "metadata": {},
   "outputs": [
    {
     "data": {
      "text/plain": [
       "{'number': [2, 5, 55, 56, 84, 78],\n",
       " 'assignment': (1, 2, 3, 4, 5),\n",
       " 'launch_date': {12, 14, 28},\n",
       " 'class': 8}"
      ]
     },
     "execution_count": 28,
     "metadata": {},
     "output_type": "execute_result"
    }
   ],
   "source": [
    "d6"
   ]
  },
  {
   "cell_type": "code",
   "execution_count": 29,
   "id": "e715b97d-5894-438c-b88b-4a519c1b63df",
   "metadata": {},
   "outputs": [
    {
     "data": {
      "text/plain": [
       "8"
      ]
     },
     "execution_count": 29,
     "metadata": {},
     "output_type": "execute_result"
    }
   ],
   "source": [
    "d6['class']"
   ]
  },
  {
   "cell_type": "code",
   "execution_count": 30,
   "id": "41440424-9c97-4bb5-8e9e-ef9fa7184c13",
   "metadata": {},
   "outputs": [
    {
     "data": {
      "text/plain": [
       "{'number': [2, 5, 55, 56, 84, 78],\n",
       " 'assignment': (1, 2, 3, 4, 5),\n",
       " 'launch_date': {12, 14, 28},\n",
       " 'class': 8}"
      ]
     },
     "execution_count": 30,
     "metadata": {},
     "output_type": "execute_result"
    }
   ],
   "source": [
    "d6"
   ]
  },
  {
   "cell_type": "code",
   "execution_count": 31,
   "id": "aa9209b0-2a7b-45c0-b033-1b61675c96ee",
   "metadata": {},
   "outputs": [],
   "source": [
    "#add new data\n",
    "d6['mentor']=['sudhanshu','krish','anurag']"
   ]
  },
  {
   "cell_type": "code",
   "execution_count": 32,
   "id": "7703221f-0806-463a-9b9e-b1bd03fe192f",
   "metadata": {},
   "outputs": [
    {
     "data": {
      "text/plain": [
       "{'number': [2, 5, 55, 56, 84, 78],\n",
       " 'assignment': (1, 2, 3, 4, 5),\n",
       " 'launch_date': {12, 14, 28},\n",
       " 'class': 8,\n",
       " 'mentor': ['sudhanshu', 'krish', 'anurag']}"
      ]
     },
     "execution_count": 32,
     "metadata": {},
     "output_type": "execute_result"
    }
   ],
   "source": [
    "d6"
   ]
  },
  {
   "cell_type": "code",
   "execution_count": 33,
   "id": "a02f7cba-9ba6-49a4-ab8d-6691d5b4c53d",
   "metadata": {},
   "outputs": [],
   "source": [
    "del d6['number']"
   ]
  },
  {
   "cell_type": "code",
   "execution_count": 34,
   "id": "66309cb7-a4a2-47a8-89fa-6fd5c2ce6f5b",
   "metadata": {},
   "outputs": [
    {
     "data": {
      "text/plain": [
       "{'assignment': (1, 2, 3, 4, 5),\n",
       " 'launch_date': {12, 14, 28},\n",
       " 'class': 8,\n",
       " 'mentor': ['sudhanshu', 'krish', 'anurag']}"
      ]
     },
     "execution_count": 34,
     "metadata": {},
     "output_type": "execute_result"
    }
   ],
   "source": [
    "d6"
   ]
  },
  {
   "cell_type": "code",
   "execution_count": 35,
   "id": "f83b4ffd-9759-46f4-9d3a-2a093f1829d5",
   "metadata": {},
   "outputs": [
    {
     "data": {
      "text/plain": [
       "dict_keys(['assignment', 'launch_date', 'class', 'mentor'])"
      ]
     },
     "execution_count": 35,
     "metadata": {},
     "output_type": "execute_result"
    }
   ],
   "source": [
    "d6.keys()"
   ]
  },
  {
   "cell_type": "code",
   "execution_count": 37,
   "id": "9f4cc096-5814-4bfd-a6a7-09307c8f9931",
   "metadata": {},
   "outputs": [
    {
     "data": {
      "text/plain": [
       "[(1, 2, 3, 4, 5), {12, 14, 28}, 8, ['sudhanshu', 'krish', 'anurag']]"
      ]
     },
     "execution_count": 37,
     "metadata": {},
     "output_type": "execute_result"
    }
   ],
   "source": [
    "list(d6.values())"
   ]
  },
  {
   "cell_type": "code",
   "execution_count": 39,
   "id": "12ec6ef3-1e50-404b-a7aa-71bb02922e18",
   "metadata": {},
   "outputs": [
    {
     "data": {
      "text/plain": [
       "[('assignment', (1, 2, 3, 4, 5)),\n",
       " ('launch_date', {12, 14, 28}),\n",
       " ('class', 8),\n",
       " ('mentor', ['sudhanshu', 'krish', 'anurag'])]"
      ]
     },
     "execution_count": 39,
     "metadata": {},
     "output_type": "execute_result"
    }
   ],
   "source": [
    "list(d6.items())"
   ]
  },
  {
   "cell_type": "code",
   "execution_count": 40,
   "id": "0ee34c92-e0b7-4116-bf48-8075a1383fdd",
   "metadata": {},
   "outputs": [
    {
     "data": {
      "text/plain": [
       "(1, 2, 3, 4, 5)"
      ]
     },
     "execution_count": 40,
     "metadata": {},
     "output_type": "execute_result"
    }
   ],
   "source": [
    "d6.pop('assignment')"
   ]
  },
  {
   "cell_type": "code",
   "execution_count": 41,
   "id": "b3984ce0-5e8e-4f61-8961-859f231596c4",
   "metadata": {},
   "outputs": [],
   "source": [
    "#DECISON MAKING"
   ]
  },
  {
   "cell_type": "code",
   "execution_count": null,
   "id": "20cc5384-d9e8-4591-bed2-544d69a6e19e",
   "metadata": {},
   "outputs": [],
   "source": [
    "marks=int(input(\"enter your marks\"))\n",
    "if marks >=80:\n",
    "        print(\"you will be a part of A0 batch\")\n",
    "elif marks >=60 and marks<80:\n",
    "    print(\"you will be the part of A1 batch\")\n",
    "elif marks>=40 and marks<60:\n",
    "    print(\"you will be the part of A2 batch\")\n",
    "else:\n",
    "    print(\"you will be the part of A3 batch\")"
   ]
  },
  {
   "cell_type": "code",
   "execution_count": 50,
   "id": "ae67d03a-3aca-450c-b556-bbe15d8ca35b",
   "metadata": {},
   "outputs": [
    {
     "data": {
      "text/plain": [
       "False"
      ]
     },
     "execution_count": 50,
     "metadata": {},
     "output_type": "execute_result"
    }
   ],
   "source": [
    "10>=80"
   ]
  },
  {
   "cell_type": "code",
   "execution_count": 2,
   "id": "e1a758b6-833e-4318-9076-ff6f8b43bb0c",
   "metadata": {},
   "outputs": [
    {
     "name": "stdin",
     "output_type": "stream",
     "text": [
      "enter price 200\n"
     ]
    },
    {
     "name": "stdout",
     "output_type": "stream",
     "text": [
      "i will purchase\n"
     ]
    }
   ],
   "source": [
    "price=int(input(\"enter price\"))\n",
    "if price>1000:\n",
    "    print(\"i will not purchase\")\n",
    "else:\n",
    "    print(\"i will purchase\")\n"
   ]
  },
  {
   "cell_type": "code",
   "execution_count": 3,
   "id": "f5867c4d-22e5-40e9-b34d-6e099aa8cab6",
   "metadata": {},
   "outputs": [
    {
     "name": "stdin",
     "output_type": "stream",
     "text": [
      "enter price 1500\n"
     ]
    },
    {
     "name": "stdout",
     "output_type": "stream",
     "text": [
      "i will not purchase\n",
      "its okk\n"
     ]
    }
   ],
   "source": [
    "price=int(input(\"enter price\"))\n",
    "if price>1000:\n",
    "    print(\"i will not purchase\")\n",
    "    if price >5000:\n",
    "        print(\"this is tooo much\")\n",
    "    elif price <2000:\n",
    "        print(\"its okk\")\n",
    "elif price <1000:\n",
    "    print(\"i will purchase\")\n",
    "else:\n",
    "    print(\"not intreseted\")"
   ]
  },
  {
   "cell_type": "code",
   "execution_count": 4,
   "id": "c6dec818-3a9d-436f-b6ff-ef5ac40b8d72",
   "metadata": {},
   "outputs": [],
   "source": [
    "l=[1,2,3,4,5,6,7,8]"
   ]
  },
  {
   "cell_type": "code",
   "execution_count": 5,
   "id": "fb0c9e95-8997-4177-bced-3620f8553dea",
   "metadata": {},
   "outputs": [
    {
     "data": {
      "text/plain": [
       "2"
      ]
     },
     "execution_count": 5,
     "metadata": {},
     "output_type": "execute_result"
    }
   ],
   "source": [
    "l[0]+1"
   ]
  },
  {
   "cell_type": "code",
   "execution_count": 6,
   "id": "c2d9e0fe-3a55-49b8-85dd-ec9cd4ea7476",
   "metadata": {},
   "outputs": [],
   "source": [
    "l1=[]"
   ]
  },
  {
   "cell_type": "code",
   "execution_count": 7,
   "id": "dca69025-fff3-4dd0-86cc-1a55f5d5d261",
   "metadata": {},
   "outputs": [],
   "source": [
    "l1.append(l[0]+1)"
   ]
  },
  {
   "cell_type": "code",
   "execution_count": 8,
   "id": "be869f5c-bcbc-4051-99e5-7a3184106a2c",
   "metadata": {},
   "outputs": [
    {
     "data": {
      "text/plain": [
       "[2]"
      ]
     },
     "execution_count": 8,
     "metadata": {},
     "output_type": "execute_result"
    }
   ],
   "source": [
    "l1"
   ]
  },
  {
   "cell_type": "code",
   "execution_count": 9,
   "id": "884f1914-946c-4002-b5e4-7c119d4f3cfd",
   "metadata": {},
   "outputs": [],
   "source": [
    "l=[1,2,3,4,5,6,7,8]"
   ]
  },
  {
   "cell_type": "code",
   "execution_count": 15,
   "id": "b72947a7-e3aa-46ea-aac4-6ebef33ea1b9",
   "metadata": {},
   "outputs": [
    {
     "name": "stdout",
     "output_type": "stream",
     "text": [
      "2\n",
      "3\n",
      "4\n",
      "5\n",
      "6\n",
      "7\n",
      "8\n",
      "9\n"
     ]
    },
    {
     "data": {
      "text/plain": [
       "[2, 3, 4, 5, 6, 7, 8, 9]"
      ]
     },
     "execution_count": 15,
     "metadata": {},
     "output_type": "execute_result"
    }
   ],
   "source": [
    "l1=[]\n",
    "for i in l:\n",
    "    print(i+1)\n",
    "    l1.append(i+1)\n",
    "l1"
   ]
  },
  {
   "cell_type": "code",
   "execution_count": 16,
   "id": "f91063d0-4b91-43e7-b776-34ab2507fed3",
   "metadata": {},
   "outputs": [],
   "source": [
    "l=['sudh','kumar','pwskill','course']"
   ]
  },
  {
   "cell_type": "code",
   "execution_count": 18,
   "id": "ebdd4ad0-71c8-435d-afa2-6e6fa17189b8",
   "metadata": {},
   "outputs": [
    {
     "name": "stdout",
     "output_type": "stream",
     "text": [
      "sudh\n",
      "kumar\n",
      "pwskill\n",
      "course\n"
     ]
    },
    {
     "data": {
      "text/plain": [
       "['SUDH', 'KUMAR', 'PWSKILL', 'COURSE']"
      ]
     },
     "execution_count": 18,
     "metadata": {},
     "output_type": "execute_result"
    }
   ],
   "source": [
    "l1=[]\n",
    "for i in l:\n",
    "    print(i)\n",
    "    l1.append(i.upper())\n",
    "l1"
   ]
  },
  {
   "cell_type": "code",
   "execution_count": 19,
   "id": "21aa07a8-df57-48ab-8aa7-7b71402e800b",
   "metadata": {},
   "outputs": [],
   "source": [
    "l=[1,2,3,4,5,\"sudh\",\"kumar\",324,36.54,'bcd']"
   ]
  },
  {
   "cell_type": "code",
   "execution_count": 20,
   "id": "577a1a7a-fc0f-4cdd-8ca3-01d74ed7a3ac",
   "metadata": {},
   "outputs": [],
   "source": [
    "l1_num=[]\n",
    "l2_str=[]\n",
    "for i in l:\n",
    "    if type(i)==int or type(i)==float:\n",
    "        l1_num.append(i)\n",
    "    else:\n",
    "        l2_str.append(i)"
   ]
  },
  {
   "cell_type": "code",
   "execution_count": 21,
   "id": "9d226ea3-8b2e-46b4-bbdf-ce27e09e7521",
   "metadata": {},
   "outputs": [
    {
     "data": {
      "text/plain": [
       "[1, 2, 3, 4, 5, 324, 36.54]"
      ]
     },
     "execution_count": 21,
     "metadata": {},
     "output_type": "execute_result"
    }
   ],
   "source": [
    "l1_num"
   ]
  },
  {
   "cell_type": "code",
   "execution_count": 22,
   "id": "0573cdc2-ae84-4009-aa47-7b6b1dcbb124",
   "metadata": {},
   "outputs": [
    {
     "data": {
      "text/plain": [
       "['sudh', 'kumar', 'bcd']"
      ]
     },
     "execution_count": 22,
     "metadata": {},
     "output_type": "execute_result"
    }
   ],
   "source": [
    "l2_str"
   ]
  },
  {
   "cell_type": "code",
   "execution_count": null,
   "id": "586be089-5ecb-43cc-9313-64e9f2cb7bc7",
   "metadata": {},
   "outputs": [],
   "source": [
    "100+sample"
   ]
  }
 ],
 "metadata": {
  "kernelspec": {
   "display_name": "Python 3 (ipykernel)",
   "language": "python",
   "name": "python3"
  },
  "language_info": {
   "codemirror_mode": {
    "name": "ipython",
    "version": 3
   },
   "file_extension": ".py",
   "mimetype": "text/x-python",
   "name": "python",
   "nbconvert_exporter": "python",
   "pygments_lexer": "ipython3",
   "version": "3.10.8"
  }
 },
 "nbformat": 4,
 "nbformat_minor": 5
}
